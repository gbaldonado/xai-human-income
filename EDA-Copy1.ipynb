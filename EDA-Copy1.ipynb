{
 "cells": [
  {
   "cell_type": "markdown",
   "id": "7b35ff8f-45a3-4a16-9513-bbd3c1fc5fb6",
   "metadata": {
    "tags": []
   },
   "source": [
    "# EDA - Income Census Adult Dataset "
   ]
  },
  {
   "cell_type": "code",
   "execution_count": 169,
   "id": "3256996f-73e9-46d9-b5cb-9ea7a232f32c",
   "metadata": {},
   "outputs": [],
   "source": [
    "import pandas as pd\n",
    "import numpy as np\n",
    "from sklearn.ensemble import RandomForestClassifier\n",
    "from sklearn.preprocessing import LabelEncoder\n",
    "from sklearn.model_selection import cross_val_score, StratifiedKFold\n",
    "from sklearn.metrics import confusion_matrix, classification_report\n",
    "from sklearn.inspection import permutation_importance\n",
    "import shap\n",
    "\n",
    "from scipy import stats\n",
    "from pandas_profiling import ProfileReport"
   ]
  },
  {
   "cell_type": "code",
   "execution_count": 170,
   "id": "ae3283a8-f9ea-4c40-a87e-e7cfa39d676e",
   "metadata": {},
   "outputs": [],
   "source": [
    "adult_trainset = pd.read_csv('./data/adult.data.csv')\n",
    "adult_testset = pd.read_csv('./data/adult.test.csv')"
   ]
  },
  {
   "cell_type": "code",
   "execution_count": 171,
   "id": "8664f35f-dddd-4030-a23a-30ad307fab7e",
   "metadata": {},
   "outputs": [],
   "source": [
    "#Fix test set index\n",
    "adult_testset.reset_index(inplace=True)"
   ]
  },
  {
   "cell_type": "code",
   "execution_count": 172,
   "id": "c2fe717c-3db8-4e7d-ac01-f651cde2b763",
   "metadata": {},
   "outputs": [
    {
     "name": "stderr",
     "output_type": "stream",
     "text": [
      "The default value of regex will change from True to False in a future version. In addition, single character regular expressions will *not* be treated as literal strings when regex=True.\n"
     ]
    }
   ],
   "source": [
    "# Adding the columns\n",
    "adult_trainset.columns = [\"age\", \"workclass\", \"fnlwgt\", \"education\", \"education-num\", \"marital-status\", \"occupation\", \"relationship\", \"race\", \"sex\", \"capital-gain\", \"capital-loss\", \"hours-per-week\", \"native-country\", \"income\"]\n",
    "adult_testset.columns = [\"age\", \"workclass\", \"fnlwgt\", \"education\", \"education-num\", \"marital-status\", \"occupation\", \"relationship\", \"race\", \"sex\", \"capital-gain\", \"capital-loss\", \"hours-per-week\", \"native-country\", \"income\"]\n",
    "\n",
    "#Remove the . in the income\n",
    "adult_testset[\"income\"] = adult_testset[\"income\"].str.replace(\".\",\"\")\n",
    "\n",
    "#Replace ' ?' with NAN\n",
    "adult_trainset.replace(' ?', np.NaN, inplace=True)"
   ]
  },
  {
   "cell_type": "code",
   "execution_count": 175,
   "id": "ad464cd2-57dc-45ea-a3c4-d16e927e91dc",
   "metadata": {},
   "outputs": [
    {
     "name": "stdout",
     "output_type": "stream",
     "text": [
      "36    898\n",
      "31    888\n",
      "34    886\n",
      "23    877\n",
      "35    876\n",
      "     ... \n",
      "83      6\n",
      "88      3\n",
      "85      3\n",
      "86      1\n",
      "87      1\n",
      "Name: age, Length: 73, dtype: int64\n",
      " Private             22696\n",
      " Self-emp-not-inc     2541\n",
      " Local-gov            2093\n",
      " State-gov            1297\n",
      " Self-emp-inc         1116\n",
      " Federal-gov           960\n",
      " Without-pay            14\n",
      " Never-worked            7\n",
      "Name: workclass, dtype: int64\n",
      "164190    13\n",
      "203488    13\n",
      "123011    13\n",
      "148995    12\n",
      "126675    12\n",
      "          ..\n",
      "325573     1\n",
      "140176     1\n",
      "318264     1\n",
      "329205     1\n",
      "257302     1\n",
      "Name: fnlwgt, Length: 21647, dtype: int64\n",
      " HS-grad         10501\n",
      " Some-college     7291\n",
      " Bachelors        5354\n",
      " Masters          1723\n",
      " Assoc-voc        1382\n",
      " 11th             1175\n",
      " Assoc-acdm       1067\n",
      " 10th              933\n",
      " 7th-8th           646\n",
      " Prof-school       576\n",
      " 9th               514\n",
      " 12th              433\n",
      " Doctorate         413\n",
      " 5th-6th           333\n",
      " 1st-4th           168\n",
      " Preschool          51\n",
      "Name: education, dtype: int64\n",
      "9     10501\n",
      "10     7291\n",
      "13     5354\n",
      "14     1723\n",
      "11     1382\n",
      "7      1175\n",
      "12     1067\n",
      "6       933\n",
      "4       646\n",
      "15      576\n",
      "5       514\n",
      "8       433\n",
      "16      413\n",
      "3       333\n",
      "2       168\n",
      "1        51\n",
      "Name: education-num, dtype: int64\n",
      " Married-civ-spouse       14976\n",
      " Never-married            10682\n",
      " Divorced                  4443\n",
      " Separated                 1025\n",
      " Widowed                    993\n",
      " Married-spouse-absent      418\n",
      " Married-AF-spouse           23\n",
      "Name: marital-status, dtype: int64\n",
      " Prof-specialty       4140\n",
      " Craft-repair         4099\n",
      " Exec-managerial      4066\n",
      " Adm-clerical         3769\n",
      " Sales                3650\n",
      " Other-service        3295\n",
      " Machine-op-inspct    2002\n",
      " Transport-moving     1597\n",
      " Handlers-cleaners    1370\n",
      " Farming-fishing       994\n",
      " Tech-support          928\n",
      " Protective-serv       649\n",
      " Priv-house-serv       149\n",
      " Armed-Forces            9\n",
      "Name: occupation, dtype: int64\n",
      " Husband           13193\n",
      " Not-in-family      8304\n",
      " Own-child          5068\n",
      " Unmarried          3446\n",
      " Wife               1568\n",
      " Other-relative      981\n",
      "Name: relationship, dtype: int64\n",
      " White                 27815\n",
      " Black                  3124\n",
      " Asian-Pac-Islander     1039\n",
      " Amer-Indian-Eskimo      311\n",
      " Other                   271\n",
      "Name: race, dtype: int64\n",
      " Male      21789\n",
      " Female    10771\n",
      "Name: sex, dtype: int64\n",
      "0        29849\n",
      "15024      347\n",
      "7688       284\n",
      "7298       246\n",
      "99999      159\n",
      "         ...  \n",
      "1111         1\n",
      "2538         1\n",
      "22040        1\n",
      "4931         1\n",
      "5060         1\n",
      "Name: capital-gain, Length: 119, dtype: int64\n",
      "0       31041\n",
      "1902      202\n",
      "1977      168\n",
      "1887      159\n",
      "1848       51\n",
      "        ...  \n",
      "2080        1\n",
      "1539        1\n",
      "1844        1\n",
      "2489        1\n",
      "1411        1\n",
      "Name: capital-loss, Length: 92, dtype: int64\n",
      "40    15216\n",
      "50     2819\n",
      "45     1824\n",
      "60     1475\n",
      "35     1297\n",
      "      ...  \n",
      "82        1\n",
      "94        1\n",
      "92        1\n",
      "74        1\n",
      "87        1\n",
      "Name: hours-per-week, Length: 94, dtype: int64\n",
      " United-States                 29169\n",
      " Mexico                          643\n",
      " Philippines                     198\n",
      " Germany                         137\n",
      " Canada                          121\n",
      " Puerto-Rico                     114\n",
      " El-Salvador                     106\n",
      " India                           100\n",
      " Cuba                             95\n",
      " England                          90\n",
      " Jamaica                          81\n",
      " South                            80\n",
      " China                            75\n",
      " Italy                            73\n",
      " Dominican-Republic               70\n",
      " Vietnam                          67\n",
      " Guatemala                        64\n",
      " Japan                            62\n",
      " Poland                           60\n",
      " Columbia                         59\n",
      " Taiwan                           51\n",
      " Haiti                            44\n",
      " Iran                             43\n",
      " Portugal                         37\n",
      " Nicaragua                        34\n",
      " Peru                             31\n",
      " France                           29\n",
      " Greece                           29\n",
      " Ecuador                          28\n",
      " Ireland                          24\n",
      " Hong                             20\n",
      " Cambodia                         19\n",
      " Trinadad&Tobago                  19\n",
      " Laos                             18\n",
      " Thailand                         18\n",
      " Yugoslavia                       16\n",
      " Outlying-US(Guam-USVI-etc)       14\n",
      " Honduras                         13\n",
      " Hungary                          13\n",
      " Scotland                         12\n",
      " Holand-Netherlands                1\n",
      "Name: native-country, dtype: int64\n",
      " <=50K    24719\n",
      " >50K      7841\n",
      "Name: income, dtype: int64\n"
     ]
    }
   ],
   "source": [
    "for i in adult_trainset.columns:\n",
    "    print(adult_trainset[i].value_counts())"
   ]
  },
  {
   "cell_type": "code",
   "execution_count": 176,
   "id": "025b96fe-076f-4806-9993-9c80cbcfd863",
   "metadata": {},
   "outputs": [
    {
     "data": {
      "text/plain": [
       "age                  0\n",
       "workclass         1836\n",
       "fnlwgt               0\n",
       "education            0\n",
       "education-num        0\n",
       "marital-status       0\n",
       "occupation        1843\n",
       "relationship         0\n",
       "race                 0\n",
       "sex                  0\n",
       "capital-gain         0\n",
       "capital-loss         0\n",
       "hours-per-week       0\n",
       "native-country     583\n",
       "income               0\n",
       "dtype: int64"
      ]
     },
     "execution_count": 176,
     "metadata": {},
     "output_type": "execute_result"
    }
   ],
   "source": [
    "adult_trainset.isnull().sum()"
   ]
  },
  {
   "cell_type": "code",
   "execution_count": 177,
   "id": "f82839d4-d04b-4e70-87ba-d65e01ecb5d9",
   "metadata": {},
   "outputs": [
    {
     "data": {
      "text/plain": [
       " Private             22696\n",
       " Self-emp-not-inc     2541\n",
       " Local-gov            2093\n",
       " State-gov            1297\n",
       " Self-emp-inc         1116\n",
       " Federal-gov           960\n",
       " Without-pay            14\n",
       " Never-worked            7\n",
       "Name: workclass, dtype: int64"
      ]
     },
     "execution_count": 177,
     "metadata": {},
     "output_type": "execute_result"
    }
   ],
   "source": [
    "adult_trainset[\"workclass\"].value_counts()"
   ]
  },
  {
   "cell_type": "code",
   "execution_count": 178,
   "id": "8e5b21e4-16d5-43eb-84f7-fd4ede5deab4",
   "metadata": {},
   "outputs": [
    {
     "data": {
      "text/plain": [
       " Prof-specialty       4140\n",
       " Craft-repair         4099\n",
       " Exec-managerial      4066\n",
       " Adm-clerical         3769\n",
       " Sales                3650\n",
       " Other-service        3295\n",
       " Machine-op-inspct    2002\n",
       " Transport-moving     1597\n",
       " Handlers-cleaners    1370\n",
       " Farming-fishing       994\n",
       " Tech-support          928\n",
       " Protective-serv       649\n",
       " Priv-house-serv       149\n",
       " Armed-Forces            9\n",
       "Name: occupation, dtype: int64"
      ]
     },
     "execution_count": 178,
     "metadata": {},
     "output_type": "execute_result"
    }
   ],
   "source": [
    "adult_trainset[\"occupation\"].value_counts()"
   ]
  },
  {
   "cell_type": "code",
   "execution_count": 179,
   "id": "dcc7c927-7712-4719-b841-1c1a3c988577",
   "metadata": {},
   "outputs": [
    {
     "data": {
      "text/plain": [
       " United-States                 29169\n",
       " Mexico                          643\n",
       " Philippines                     198\n",
       " Germany                         137\n",
       " Canada                          121\n",
       " Puerto-Rico                     114\n",
       " El-Salvador                     106\n",
       " India                           100\n",
       " Cuba                             95\n",
       " England                          90\n",
       " Jamaica                          81\n",
       " South                            80\n",
       " China                            75\n",
       " Italy                            73\n",
       " Dominican-Republic               70\n",
       " Vietnam                          67\n",
       " Guatemala                        64\n",
       " Japan                            62\n",
       " Poland                           60\n",
       " Columbia                         59\n",
       " Taiwan                           51\n",
       " Haiti                            44\n",
       " Iran                             43\n",
       " Portugal                         37\n",
       " Nicaragua                        34\n",
       " Peru                             31\n",
       " France                           29\n",
       " Greece                           29\n",
       " Ecuador                          28\n",
       " Ireland                          24\n",
       " Hong                             20\n",
       " Cambodia                         19\n",
       " Trinadad&Tobago                  19\n",
       " Laos                             18\n",
       " Thailand                         18\n",
       " Yugoslavia                       16\n",
       " Outlying-US(Guam-USVI-etc)       14\n",
       " Honduras                         13\n",
       " Hungary                          13\n",
       " Scotland                         12\n",
       " Holand-Netherlands                1\n",
       "Name: native-country, dtype: int64"
      ]
     },
     "execution_count": 179,
     "metadata": {},
     "output_type": "execute_result"
    }
   ],
   "source": [
    "adult_trainset[\"native-country\"].value_counts()"
   ]
  },
  {
   "cell_type": "code",
   "execution_count": 180,
   "id": "4cd50533-559b-44b2-9b3c-7b5befef0650",
   "metadata": {},
   "outputs": [
    {
     "data": {
      "text/plain": [
       "age                  0\n",
       "workclass         1836\n",
       "fnlwgt               0\n",
       "education            0\n",
       "education-num        0\n",
       "marital-status       0\n",
       "occupation        1843\n",
       "relationship         0\n",
       "race                 0\n",
       "sex                  0\n",
       "capital-gain         0\n",
       "capital-loss         0\n",
       "hours-per-week       0\n",
       "native-country     583\n",
       "income               0\n",
       "dtype: int64"
      ]
     },
     "execution_count": 180,
     "metadata": {},
     "output_type": "execute_result"
    }
   ],
   "source": [
    "adult_trainset.isnull().sum()"
   ]
  },
  {
   "cell_type": "code",
   "execution_count": 215,
   "id": "138d9e26-c3d6-4eed-b6ea-fb87fe2f77d5",
   "metadata": {},
   "outputs": [],
   "source": [
    "#Imputing missing values\n",
    "\n",
    "#WORK CLASS\n",
    "#Method: by frequency of tuples\n",
    "workclass_frequency = adult_trainset[\"workclass\"].value_counts(normalize=True)\n",
    "workclass_labels = workclass_frequency.index\n",
    "workclass_freqvalues = workclass_frequency.values\n",
    "workclass_nan_rows = adult_trainset[\"workclass\"].isna()\n",
    "workclass_size = len(adult_trainset[workclass_nan_rows])\n",
    "\n",
    "adult_trainset.loc[workclass_nan_rows, 'workclass'] = np.random.choice(workclass_labels, size=workclass_size, p=workclass_freqvalues)\n",
    "\n",
    "#OCCUPATION\n",
    "#Method: by frequency of tuples\n",
    "occupation_frequency = adult_trainset[\"occupation\"].value_counts(normalize=True)\n",
    "occupation_labels = occupation_frequency.index\n",
    "occupation_freqvalues = occupation_frequency.values\n",
    "occupation_nan_rows = adult_trainset[\"occupation\"].isna()\n",
    "occupation_size = len(adult_trainset[occupation_nan_rows])\n",
    "\n",
    "adult_trainset.loc[occupation_nan_rows, 'occupation'] = np.random.choice(occupation_labels, size=occupation_size, p=occupation_freqvalues)\n",
    "\n",
    "#NATIVE COUNTRY\n",
    "#Method: by mode\n",
    "adult_trainset['native-country'] = adult_trainset['native-country'].fillna(adult_trainset['native-country'].mode()[0])"
   ]
  },
  {
   "cell_type": "code",
   "execution_count": 217,
   "id": "f085049c-ce74-48f9-ab8a-2c03134f2eb1",
   "metadata": {},
   "outputs": [
    {
     "data": {
      "text/plain": [
       "age               0\n",
       "workclass         0\n",
       "fnlwgt            0\n",
       "education         0\n",
       "education-num     0\n",
       "marital-status    0\n",
       "occupation        0\n",
       "relationship      0\n",
       "race              0\n",
       "sex               0\n",
       "capital-gain      0\n",
       "capital-loss      0\n",
       "hours-per-week    0\n",
       "native-country    0\n",
       "income            0\n",
       "dtype: int64"
      ]
     },
     "execution_count": 217,
     "metadata": {},
     "output_type": "execute_result"
    }
   ],
   "source": [
    "adult_trainset.isna().sum()"
   ]
  },
  {
   "cell_type": "code",
   "execution_count": 218,
   "id": "d2fa0ce9-0bd0-45c9-9be9-9f0ee9266259",
   "metadata": {},
   "outputs": [],
   "source": [
    "adult_trainset.to_csv(\"adult_train_imputed.csv\", index=False)"
   ]
  },
  {
   "cell_type": "code",
   "execution_count": 219,
   "id": "4c91a0f0-080b-4971-8a6f-11e64d1cf445",
   "metadata": {},
   "outputs": [],
   "source": [
    "# A helper function to split datasets into X records and y labels\n",
    "\n",
    "def X_y_split(df):\n",
    "    \"\"\"\n",
    "    Splits a dataframe into X and y, e.g. X_train and y_train\n",
    "    \"\"\"\n",
    "    X = df.drop([df.columns[-1]], axis = 1)\n",
    "    y = df[df.columns[-1]]\n",
    "           \n",
    "    return X, y"
   ]
  },
  {
   "cell_type": "code",
   "execution_count": 220,
   "id": "6740c92a-46d4-4044-9d79-005759a9f526",
   "metadata": {},
   "outputs": [],
   "source": [
    "X_train, y_train = X_y_split(adult_trainset)"
   ]
  },
  {
   "cell_type": "code",
   "execution_count": 221,
   "id": "3075eb29-bd4e-4c40-87c4-04a834f3e992",
   "metadata": {},
   "outputs": [],
   "source": [
    "X_test, y_test = X_y_split(adult_testset)"
   ]
  },
  {
   "cell_type": "code",
   "execution_count": 222,
   "id": "564cc2d4-4a71-42c1-8443-a00749f11c36",
   "metadata": {},
   "outputs": [],
   "source": [
    "len_features = X_train.shape[1]"
   ]
  },
  {
   "cell_type": "markdown",
   "id": "324a6651-71c4-4df6-9964-6e8f06c6ea1a",
   "metadata": {},
   "source": [
    "# columns with missing values: occupation, native country, workclass\n",
    "# Imputation\n",
    "\n",
    "# Monday tasks\n",
    "- Look at correlation of those missing values with other dimensions.\n",
    "    - Look if there are any patterns with the missing values\n",
    "        ex. Workclass has missing values. If all of them were female, that would inform missing value imputations.\n",
    "        KNN might be helpful.\n",
    "        \n",
    "can reveal systemic issues to the dataset. "
   ]
  },
  {
   "cell_type": "code",
   "execution_count": 154,
   "id": "35a0f3c4-83eb-4b6c-8d03-1a2b5de25045",
   "metadata": {},
   "outputs": [
    {
     "data": {
      "text/plain": [
       "Index(['age', 'workclass', 'fnlwgt', 'education', 'education-num',\n",
       "       'marital-status', 'occupation', 'relationship', 'race', 'sex',\n",
       "       'capital-gain', 'capital-loss', 'hours-per-week', 'native-country'],\n",
       "      dtype='object')"
      ]
     },
     "execution_count": 154,
     "metadata": {},
     "output_type": "execute_result"
    }
   ],
   "source": [
    "X_train.columns"
   ]
  },
  {
   "cell_type": "code",
   "execution_count": 225,
   "id": "772b1e16-5727-48ae-99fd-d1670b5d9fa7",
   "metadata": {},
   "outputs": [],
   "source": [
    "from sklearn import preprocessing\n",
    "le = preprocessing.LabelEncoder()\n",
    "\n",
    "categorical_feats = []\n",
    "for i in X_train.columns:\n",
    "    if type(X_train[i][0]) == str:\n",
    "        categorical_feats.append(i)\n",
    "        \n",
    "for i in categorical_feats:\n",
    "    X_train[i] = le.fit_transform(X_train[i])\n",
    "    \n",
    "for i in categorical_feats:\n",
    "    X_test[i] = le.fit_transform(X_test[i])"
   ]
  },
  {
   "cell_type": "code",
   "execution_count": 226,
   "id": "9203cb0a-b236-4de7-ae4e-f1bcc061ab6b",
   "metadata": {},
   "outputs": [
    {
     "data": {
      "text/html": [
       "<div>\n",
       "<style scoped>\n",
       "    .dataframe tbody tr th:only-of-type {\n",
       "        vertical-align: middle;\n",
       "    }\n",
       "\n",
       "    .dataframe tbody tr th {\n",
       "        vertical-align: top;\n",
       "    }\n",
       "\n",
       "    .dataframe thead th {\n",
       "        text-align: right;\n",
       "    }\n",
       "</style>\n",
       "<table border=\"1\" class=\"dataframe\">\n",
       "  <thead>\n",
       "    <tr style=\"text-align: right;\">\n",
       "      <th></th>\n",
       "      <th>age</th>\n",
       "      <th>workclass</th>\n",
       "      <th>fnlwgt</th>\n",
       "      <th>education</th>\n",
       "      <th>education-num</th>\n",
       "      <th>marital-status</th>\n",
       "      <th>occupation</th>\n",
       "      <th>relationship</th>\n",
       "      <th>race</th>\n",
       "      <th>sex</th>\n",
       "      <th>capital-gain</th>\n",
       "      <th>capital-loss</th>\n",
       "      <th>hours-per-week</th>\n",
       "      <th>native-country</th>\n",
       "    </tr>\n",
       "  </thead>\n",
       "  <tbody>\n",
       "    <tr>\n",
       "      <th>0</th>\n",
       "      <td>25</td>\n",
       "      <td>4</td>\n",
       "      <td>226802</td>\n",
       "      <td>1</td>\n",
       "      <td>7</td>\n",
       "      <td>4</td>\n",
       "      <td>7</td>\n",
       "      <td>3</td>\n",
       "      <td>2</td>\n",
       "      <td>1</td>\n",
       "      <td>0</td>\n",
       "      <td>0</td>\n",
       "      <td>40</td>\n",
       "      <td>38</td>\n",
       "    </tr>\n",
       "    <tr>\n",
       "      <th>1</th>\n",
       "      <td>38</td>\n",
       "      <td>4</td>\n",
       "      <td>89814</td>\n",
       "      <td>11</td>\n",
       "      <td>9</td>\n",
       "      <td>2</td>\n",
       "      <td>5</td>\n",
       "      <td>0</td>\n",
       "      <td>4</td>\n",
       "      <td>1</td>\n",
       "      <td>0</td>\n",
       "      <td>0</td>\n",
       "      <td>50</td>\n",
       "      <td>38</td>\n",
       "    </tr>\n",
       "    <tr>\n",
       "      <th>2</th>\n",
       "      <td>28</td>\n",
       "      <td>2</td>\n",
       "      <td>336951</td>\n",
       "      <td>7</td>\n",
       "      <td>12</td>\n",
       "      <td>2</td>\n",
       "      <td>11</td>\n",
       "      <td>0</td>\n",
       "      <td>4</td>\n",
       "      <td>1</td>\n",
       "      <td>0</td>\n",
       "      <td>0</td>\n",
       "      <td>40</td>\n",
       "      <td>38</td>\n",
       "    </tr>\n",
       "    <tr>\n",
       "      <th>3</th>\n",
       "      <td>44</td>\n",
       "      <td>4</td>\n",
       "      <td>160323</td>\n",
       "      <td>15</td>\n",
       "      <td>10</td>\n",
       "      <td>2</td>\n",
       "      <td>7</td>\n",
       "      <td>0</td>\n",
       "      <td>2</td>\n",
       "      <td>1</td>\n",
       "      <td>7688</td>\n",
       "      <td>0</td>\n",
       "      <td>40</td>\n",
       "      <td>38</td>\n",
       "    </tr>\n",
       "    <tr>\n",
       "      <th>4</th>\n",
       "      <td>18</td>\n",
       "      <td>0</td>\n",
       "      <td>103497</td>\n",
       "      <td>15</td>\n",
       "      <td>10</td>\n",
       "      <td>4</td>\n",
       "      <td>0</td>\n",
       "      <td>3</td>\n",
       "      <td>4</td>\n",
       "      <td>0</td>\n",
       "      <td>0</td>\n",
       "      <td>0</td>\n",
       "      <td>30</td>\n",
       "      <td>38</td>\n",
       "    </tr>\n",
       "    <tr>\n",
       "      <th>...</th>\n",
       "      <td>...</td>\n",
       "      <td>...</td>\n",
       "      <td>...</td>\n",
       "      <td>...</td>\n",
       "      <td>...</td>\n",
       "      <td>...</td>\n",
       "      <td>...</td>\n",
       "      <td>...</td>\n",
       "      <td>...</td>\n",
       "      <td>...</td>\n",
       "      <td>...</td>\n",
       "      <td>...</td>\n",
       "      <td>...</td>\n",
       "      <td>...</td>\n",
       "    </tr>\n",
       "    <tr>\n",
       "      <th>16276</th>\n",
       "      <td>39</td>\n",
       "      <td>4</td>\n",
       "      <td>215419</td>\n",
       "      <td>9</td>\n",
       "      <td>13</td>\n",
       "      <td>0</td>\n",
       "      <td>10</td>\n",
       "      <td>1</td>\n",
       "      <td>4</td>\n",
       "      <td>0</td>\n",
       "      <td>0</td>\n",
       "      <td>0</td>\n",
       "      <td>36</td>\n",
       "      <td>38</td>\n",
       "    </tr>\n",
       "    <tr>\n",
       "      <th>16277</th>\n",
       "      <td>64</td>\n",
       "      <td>0</td>\n",
       "      <td>321403</td>\n",
       "      <td>11</td>\n",
       "      <td>9</td>\n",
       "      <td>6</td>\n",
       "      <td>0</td>\n",
       "      <td>2</td>\n",
       "      <td>2</td>\n",
       "      <td>1</td>\n",
       "      <td>0</td>\n",
       "      <td>0</td>\n",
       "      <td>40</td>\n",
       "      <td>38</td>\n",
       "    </tr>\n",
       "    <tr>\n",
       "      <th>16278</th>\n",
       "      <td>38</td>\n",
       "      <td>4</td>\n",
       "      <td>374983</td>\n",
       "      <td>9</td>\n",
       "      <td>13</td>\n",
       "      <td>2</td>\n",
       "      <td>10</td>\n",
       "      <td>0</td>\n",
       "      <td>4</td>\n",
       "      <td>1</td>\n",
       "      <td>0</td>\n",
       "      <td>0</td>\n",
       "      <td>50</td>\n",
       "      <td>38</td>\n",
       "    </tr>\n",
       "    <tr>\n",
       "      <th>16279</th>\n",
       "      <td>44</td>\n",
       "      <td>4</td>\n",
       "      <td>83891</td>\n",
       "      <td>9</td>\n",
       "      <td>13</td>\n",
       "      <td>0</td>\n",
       "      <td>1</td>\n",
       "      <td>3</td>\n",
       "      <td>1</td>\n",
       "      <td>1</td>\n",
       "      <td>5455</td>\n",
       "      <td>0</td>\n",
       "      <td>40</td>\n",
       "      <td>38</td>\n",
       "    </tr>\n",
       "    <tr>\n",
       "      <th>16280</th>\n",
       "      <td>35</td>\n",
       "      <td>5</td>\n",
       "      <td>182148</td>\n",
       "      <td>9</td>\n",
       "      <td>13</td>\n",
       "      <td>2</td>\n",
       "      <td>4</td>\n",
       "      <td>0</td>\n",
       "      <td>4</td>\n",
       "      <td>1</td>\n",
       "      <td>0</td>\n",
       "      <td>0</td>\n",
       "      <td>60</td>\n",
       "      <td>38</td>\n",
       "    </tr>\n",
       "  </tbody>\n",
       "</table>\n",
       "<p>16281 rows × 14 columns</p>\n",
       "</div>"
      ],
      "text/plain": [
       "       age  workclass  fnlwgt  education  education-num  marital-status  \\\n",
       "0       25          4  226802          1              7               4   \n",
       "1       38          4   89814         11              9               2   \n",
       "2       28          2  336951          7             12               2   \n",
       "3       44          4  160323         15             10               2   \n",
       "4       18          0  103497         15             10               4   \n",
       "...    ...        ...     ...        ...            ...             ...   \n",
       "16276   39          4  215419          9             13               0   \n",
       "16277   64          0  321403         11              9               6   \n",
       "16278   38          4  374983          9             13               2   \n",
       "16279   44          4   83891          9             13               0   \n",
       "16280   35          5  182148          9             13               2   \n",
       "\n",
       "       occupation  relationship  race  sex  capital-gain  capital-loss  \\\n",
       "0               7             3     2    1             0             0   \n",
       "1               5             0     4    1             0             0   \n",
       "2              11             0     4    1             0             0   \n",
       "3               7             0     2    1          7688             0   \n",
       "4               0             3     4    0             0             0   \n",
       "...           ...           ...   ...  ...           ...           ...   \n",
       "16276          10             1     4    0             0             0   \n",
       "16277           0             2     2    1             0             0   \n",
       "16278          10             0     4    1             0             0   \n",
       "16279           1             3     1    1          5455             0   \n",
       "16280           4             0     4    1             0             0   \n",
       "\n",
       "       hours-per-week  native-country  \n",
       "0                  40              38  \n",
       "1                  50              38  \n",
       "2                  40              38  \n",
       "3                  40              38  \n",
       "4                  30              38  \n",
       "...               ...             ...  \n",
       "16276              36              38  \n",
       "16277              40              38  \n",
       "16278              50              38  \n",
       "16279              40              38  \n",
       "16280              60              38  \n",
       "\n",
       "[16281 rows x 14 columns]"
      ]
     },
     "execution_count": 226,
     "metadata": {},
     "output_type": "execute_result"
    }
   ],
   "source": [
    "X_test"
   ]
  },
  {
   "cell_type": "code",
   "execution_count": 227,
   "id": "73c3e6a7-f38a-4908-9df1-0f7b4b718f49",
   "metadata": {},
   "outputs": [
    {
     "data": {
      "text/plain": [
       "array([0, 0, 0, ..., 0, 0, 1])"
      ]
     },
     "execution_count": 227,
     "metadata": {},
     "output_type": "execute_result"
    }
   ],
   "source": [
    "ytrain = le.fit_transform(ytrain)\n",
    "ytest = le.fit_transform(ytest)\n",
    "ytrain #<=50k --> 0"
   ]
  },
  {
   "cell_type": "code",
   "execution_count": 159,
   "id": "6898ff0e-ba5e-4779-94ec-faf035155264",
   "metadata": {},
   "outputs": [
    {
     "data": {
      "text/plain": [
       "array([0, 0, 0, ..., 0, 0, 1])"
      ]
     },
     "execution_count": 159,
     "metadata": {},
     "output_type": "execute_result"
    }
   ],
   "source": [
    "ytrain"
   ]
  },
  {
   "cell_type": "code",
   "execution_count": 160,
   "id": "26f64b6b-acf7-447f-819c-7827d3e258ff",
   "metadata": {},
   "outputs": [
    {
     "data": {
      "text/plain": [
       "array([0, 0, 1, ..., 0, 0, 1])"
      ]
     },
     "execution_count": 160,
     "metadata": {},
     "output_type": "execute_result"
    }
   ],
   "source": [
    "ytest"
   ]
  },
  {
   "cell_type": "code",
   "execution_count": null,
   "id": "580572cc-7fc2-4cb8-a4f6-3c149ce6d1dc",
   "metadata": {},
   "outputs": [],
   "source": []
  },
  {
   "cell_type": "code",
   "execution_count": 231,
   "id": "1e3feb5d-97ca-4e43-b235-021aee3063bf",
   "metadata": {},
   "outputs": [
    {
     "data": {
      "text/plain": [
       "[1, 3, 7]"
      ]
     },
     "execution_count": 231,
     "metadata": {},
     "output_type": "execute_result"
    }
   ],
   "source": [
    "mtry"
   ]
  },
  {
   "cell_type": "code",
   "execution_count": 230,
   "id": "1fbd51de-92a0-4132-8738-2b5d990cf263",
   "metadata": {},
   "outputs": [
    {
     "name": "stdout",
     "output_type": "stream",
     "text": [
      "Random Forest Model ntree=500 mtry=1\n",
      "RF score 0.8508076899453351\n",
      "OOB score 0.856081081081081\n",
      "-----------------------------------\n",
      "\n",
      "Random Forest Model ntree=500 mtry=3\n",
      "RF score 0.8490264725753947\n",
      "OOB score 0.8585995085995086\n",
      "-----------------------------------\n",
      "\n",
      "Random Forest Model ntree=500 mtry=7\n",
      "RF score 0.8462010932989374\n",
      "OOB score 0.8569103194103194\n",
      "-----------------------------------\n",
      "\n",
      "Random Forest Model ntree=1000 mtry=1\n",
      "RF score 0.8499477919046742\n",
      "OOB score 0.8577088452088452\n",
      "-----------------------------------\n",
      "\n",
      "Random Forest Model ntree=1000 mtry=3\n",
      "RF score 0.8505005835022419\n",
      "OOB score 0.8589373464373464\n",
      "-----------------------------------\n",
      "\n",
      "Random Forest Model ntree=1000 mtry=7\n",
      "RF score 0.8463853571647934\n",
      "OOB score 0.8584152334152334\n",
      "-----------------------------------\n",
      "\n"
     ]
    }
   ],
   "source": [
    "ntree = [500, 1000]\n",
    "mtry = [int(0.5*np.sqrt(len_features)), int(np.sqrt(len_features)), int(2*np.sqrt(len_features))]\n",
    "\n",
    "for i in ntree:\n",
    "    for j in mtry:\n",
    "        RF_clf = RandomForestClassifier(n_estimators=i, max_features=j, oob_score=True)\n",
    "        RF_clf.fit(X_train, y_train)\n",
    "        print(f\"Random Forest Model ntree={i} mtry={j}\")\n",
    "        print(f\"RF score {RF_clf.score(X_test, y_test)}\")\n",
    "        print(f\"OOB score {RF_clf.oob_score_}\")\n",
    "        print(\"-----------------------------------\\n\")"
   ]
  },
  {
   "cell_type": "markdown",
   "id": "d350861a-9bc0-44fc-b3cc-5c29fc2141b3",
   "metadata": {},
   "source": [
    "BEST MODEL: ntree 1000, mtry 3"
   ]
  },
  {
   "cell_type": "code",
   "execution_count": 232,
   "id": "dd545529-f573-4007-b257-768eb42e8df5",
   "metadata": {},
   "outputs": [],
   "source": [
    "RF_clf_1 = RandomForestClassifier(n_estimators=1000, \n",
    "                                  max_features=int(np.sqrt(len_features)), \n",
    "                                  oob_score=True)"
   ]
  },
  {
   "cell_type": "code",
   "execution_count": 233,
   "id": "5e68071a-d7d9-44bd-ad73-4584d1234706",
   "metadata": {},
   "outputs": [],
   "source": [
    "cv_scores = cross_val_score(RF_clf_1, X_train, y_train, cv=StratifiedKFold(n_splits=3, shuffle=True))"
   ]
  },
  {
   "cell_type": "code",
   "execution_count": 234,
   "id": "c472597e-42ba-4ce2-8991-1d20d8ad5df0",
   "metadata": {},
   "outputs": [
    {
     "data": {
      "text/plain": [
       "array([0.855445  , 0.85819589, 0.85911729])"
      ]
     },
     "execution_count": 234,
     "metadata": {},
     "output_type": "execute_result"
    }
   ],
   "source": [
    "cv_scores"
   ]
  },
  {
   "cell_type": "code",
   "execution_count": 236,
   "id": "ad61a3f4-2319-4856-9281-51e1f67be823",
   "metadata": {},
   "outputs": [
    {
     "name": "stdout",
     "output_type": "stream",
     "text": [
      "FOLD 1\n",
      "X_train shape (21706, 14)\n",
      "y_train shape (21706,)\n",
      "X_test shape (10854, 14)\n",
      "y_test shape (10854,)\n",
      "Confusion Matrix for FOLD 1\n",
      "[[7703  537]\n",
      " [ 998 1616]]\n",
      "              precision    recall  f1-score   support\n",
      "\n",
      "       <=50K       0.89      0.93      0.91      8240\n",
      "        >50K       0.75      0.62      0.68      2614\n",
      "\n",
      "    accuracy                           0.86     10854\n",
      "   macro avg       0.82      0.78      0.79     10854\n",
      "weighted avg       0.85      0.86      0.85     10854\n",
      "\n",
      "---------------------------------------------------------\n",
      "FOLD 2\n",
      "X_train shape (21707, 14)\n",
      "y_train shape (21707,)\n",
      "X_test shape (10853, 14)\n",
      "y_test shape (10853,)\n",
      "Confusion Matrix for FOLD 2\n",
      "[[7619  621]\n",
      " [ 956 1657]]\n",
      "              precision    recall  f1-score   support\n",
      "\n",
      "       <=50K       0.89      0.92      0.91      8240\n",
      "        >50K       0.73      0.63      0.68      2613\n",
      "\n",
      "    accuracy                           0.85     10853\n",
      "   macro avg       0.81      0.78      0.79     10853\n",
      "weighted avg       0.85      0.85      0.85     10853\n",
      "\n",
      "---------------------------------------------------------\n",
      "FOLD 3\n",
      "X_train shape (21707, 14)\n",
      "y_train shape (21707,)\n",
      "X_test shape (10853, 14)\n",
      "y_test shape (10853,)\n",
      "Confusion Matrix for FOLD 3\n",
      "[[7681  558]\n",
      " [ 987 1627]]\n",
      "              precision    recall  f1-score   support\n",
      "\n",
      "       <=50K       0.89      0.93      0.91      8239\n",
      "        >50K       0.74      0.62      0.68      2614\n",
      "\n",
      "    accuracy                           0.86     10853\n",
      "   macro avg       0.82      0.78      0.79     10853\n",
      "weighted avg       0.85      0.86      0.85     10853\n",
      "\n",
      "---------------------------------------------------------\n"
     ]
    }
   ],
   "source": [
    "skf = StratifiedKFold(n_splits=3, random_state=44, shuffle=True)\n",
    "counter = 0\n",
    "for train_index, test_index in skf.split(X_train, y_train):\n",
    "    counter += 1\n",
    "    print(f\"FOLD {counter}\")\n",
    "    X_train_skf, X_test_skf = X_train.iloc[train_index], X_train.iloc[test_index]\n",
    "    y_train_skf, y_test_skf = y_train.iloc[train_index], y_train.iloc[test_index]\n",
    "    print(\"X_train shape\", X_train_skf.shape)\n",
    "    print(\"y_train shape\", y_train_skf.shape)\n",
    "    print(\"X_test shape\", X_test_skf.shape)\n",
    "    print(\"y_test shape\", y_test_skf.shape)\n",
    "    \n",
    "    RF_clf_1.fit(X_train_skf, y_train_skf)\n",
    "    y_pred = RF_clf_1.predict(X_test_skf)\n",
    "    print(f\"Confusion Matrix for FOLD {counter}\")\n",
    "    print(confusion_matrix(y_test_skf, y_pred))\n",
    "    print(classification_report(y_test_skf,y_pred))\n",
    "    print(f\"---------------------------------------------------------\")"
   ]
  },
  {
   "cell_type": "code",
   "execution_count": null,
   "id": "efd7c494-2ea7-4410-a6c7-52d69f724cb0",
   "metadata": {},
   "outputs": [],
   "source": [
    "explainer = shap.TreeExplainer(RF_clf_1)\n",
    "shap_values = explainer.shap_values(X_test)\n",
    "shap.summary_plot(shap_values, X_test, plot_type=\"bar\", max_display=10)"
   ]
  },
  {
   "cell_type": "code",
   "execution_count": null,
   "id": "c0450a17-9dc1-47ec-b17a-6d01171ddfdc",
   "metadata": {},
   "outputs": [],
   "source": []
  }
 ],
 "metadata": {
  "kernelspec": {
   "display_name": "Python 3 (ipykernel)",
   "language": "python",
   "name": "python3"
  },
  "language_info": {
   "codemirror_mode": {
    "name": "ipython",
    "version": 3
   },
   "file_extension": ".py",
   "mimetype": "text/x-python",
   "name": "python",
   "nbconvert_exporter": "python",
   "pygments_lexer": "ipython3",
   "version": "3.9.7"
  }
 },
 "nbformat": 4,
 "nbformat_minor": 5
}
